{
 "cells": [
  {
   "cell_type": "markdown",
   "id": "5d7fa7f2-1ff3-45c5-9d18-1779df296172",
   "metadata": {},
   "source": [
    "Задание 1"
   ]
  },
  {
   "cell_type": "code",
   "execution_count": 11,
   "id": "620674a1-1b39-4dc8-8e10-8d05cee1b87d",
   "metadata": {},
   "outputs": [
    {
     "name": "stdin",
     "output_type": "stream",
     "text": [
      "Введите начальное число (from):  10\n",
      "Введите конечное число (to):  5\n"
     ]
    },
    {
     "name": "stdout",
     "output_type": "stream",
     "text": [
      "Сумма чисел от 10 до 5 включительно: 45\n"
     ]
    }
   ],
   "source": [
    "def sum_distance(from_, to_):\n",
    "\n",
    "    if from_ > to_:\n",
    "        from_, to_ = to_, from_\n",
    "\n",
    "    total_sum = sum(range(from_, to_ + 1))\n",
    "    return total_sum\n",
    "\n",
    "from_value = int(input(\"Введите начальное число (from): \"))\n",
    "to_value = int(input(\"Введите конечное число (to): \"))\n",
    "\n",
    "result = sum_distance(from_value, to_value)\n",
    "print(f\"Сумма чисел от {from_value} до {to_value} включительно: {result}\")"
   ]
  },
  {
   "cell_type": "markdown",
   "id": "888854d3-22fe-43b5-b4da-2d8a4cfa81bc",
   "metadata": {},
   "source": [
    "Задание 2"
   ]
  },
  {
   "cell_type": "code",
   "execution_count": null,
   "id": "71633956-d867-4864-9620-48c6fb5123a7",
   "metadata": {},
   "outputs": [],
   "source": [
    "def trim_and_repeat(string, offset=0, repetitions=1):\n",
    "\n",
    "    trimmed_string = string[offset:]\n",
    "    result = trimmed_string * repetitions\n",
    "    return result\n",
    "input_string = input(\"Введите строку: \")\n",
    "input_offset = int(input(\"Введите количество символов для обрезки (offset): \"))\n",
    "input_repetitions = int(input(\"Введите количество повторений (repetitions): \"))\n",
    "\n",
    "result_string = trim_and_repeat(input_string, input_offset, input_repetitions)\n",
    "print(f\"Результат: {result_string}\")"
   ]
  },
  {
   "cell_type": "code",
   "execution_count": null,
   "id": "84bff46a-28e4-4809-8e76-9fdf5bf2f461",
   "metadata": {},
   "outputs": [],
   "source": []
  }
 ],
 "metadata": {
  "kernelspec": {
   "display_name": "Python 3 (ipykernel)",
   "language": "python",
   "name": "python3"
  },
  "language_info": {
   "codemirror_mode": {
    "name": "ipython",
    "version": 3
   },
   "file_extension": ".py",
   "mimetype": "text/x-python",
   "name": "python",
   "nbconvert_exporter": "python",
   "pygments_lexer": "ipython3",
   "version": "3.12.7"
  }
 },
 "nbformat": 4,
 "nbformat_minor": 5
}
