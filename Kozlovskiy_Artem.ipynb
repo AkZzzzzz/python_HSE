{
 "cells": [
  {
   "cell_type": "markdown",
   "id": "51ea03ac-1f1a-439f-a3b7-c6b83188e112",
   "metadata": {},
   "source": [
    "Задание 1"
   ]
  },
  {
   "cell_type": "code",
   "execution_count": 39,
   "id": "959d5fca-1ed0-4dc1-bfb6-ce708e81e14d",
   "metadata": {},
   "outputs": [
    {
     "name": "stdin",
     "output_type": "stream",
     "text": [
      "Введите слово:  test\n"
     ]
    },
    {
     "name": "stdout",
     "output_type": "stream",
     "text": [
      "3\n"
     ]
    }
   ],
   "source": [
    "word = input(\"Введите слово: \")\n",
    "if len(word) % 2 == 0 :\n",
    "    print(word[int(len(word)/2)-1:int(len(word)/2)+1])\n",
    "else :\n",
    "    print(word[int(len(word)/2)])"
   ]
  },
  {
   "cell_type": "markdown",
   "id": "7aba6a1d-9115-40a3-b77e-302ba88c0b87",
   "metadata": {},
   "source": [
    "Задание 2"
   ]
  },
  {
   "cell_type": "code",
   "execution_count": 70,
   "id": "665c66ab-292d-4ac9-ab38-fbeadd88b4d3",
   "metadata": {},
   "outputs": [
    {
     "name": "stdin",
     "output_type": "stream",
     "text": [
      "Введите парней:  Peter, Alex, John, Authur, Richard\n",
      "Введите девушек:  Kate, Liza, Kira, Emma, Trisha\n"
     ]
    },
    {
     "name": "stdout",
     "output_type": "stream",
     "text": [
      "Идеальные пары:\n",
      "Alex и Emma\n",
      "Authur и Kate\n",
      "John и Kira\n",
      "Peter и Liza\n",
      "Richard и Trisha\n"
     ]
    }
   ],
   "source": [
    "boys = input(\"Введите парней: \").split(\", \")\n",
    "girls = input(\"Введите девушек: \").split(\", \")\n",
    "boys_sorted = sorted(boys)\n",
    "girls_sorted = sorted(girls)\n",
    "if len(boys_sorted) != len(girls_sorted):\n",
    "    print('Внимание, кто-то может остаться без пары')\n",
    "else:\n",
    "    print('Идеальные пары:')\n",
    "    for boy, girl in zip(boys_sorted, girls_sorted):\n",
    "        print(f\"{boy} и {girl}\")"
   ]
  },
  {
   "cell_type": "code",
   "execution_count": null,
   "id": "cdc2206b-a706-4e50-8e93-63f8e31e883e",
   "metadata": {},
   "outputs": [],
   "source": []
  }
 ],
 "metadata": {
  "kernelspec": {
   "display_name": "Python 3 (ipykernel)",
   "language": "python",
   "name": "python3"
  },
  "language_info": {
   "codemirror_mode": {
    "name": "ipython",
    "version": 3
   },
   "file_extension": ".py",
   "mimetype": "text/x-python",
   "name": "python",
   "nbconvert_exporter": "python",
   "pygments_lexer": "ipython3",
   "version": "3.12.7"
  }
 },
 "nbformat": 4,
 "nbformat_minor": 5
}
