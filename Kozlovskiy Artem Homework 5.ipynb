{
 "cells": [
  {
   "cell_type": "markdown",
   "id": "05184b37-a9c3-4a93-a059-4cb1e47c4bed",
   "metadata": {},
   "source": [
    "Задание 1"
   ]
  },
  {
   "cell_type": "code",
   "execution_count": 7,
   "id": "110e0a8f-f6b4-483c-b66a-cae6918e6aa3",
   "metadata": {},
   "outputs": [
    {
     "name": "stdout",
     "output_type": "stream",
     "text": [
      "The Moscow Times: 2002-10-02 00:00:00\n",
      "The Guardian: 2013-10-11 00:00:00\n",
      "Daily News: 1977-08-18 00:00:00\n"
     ]
    }
   ],
   "source": [
    "from datetime import datetime\n",
    "\n",
    "dates = { \"The Moscow Times\": \"Wednesday, October 2, 2002\",\n",
    "    \"The Guardian\": \"Friday, 11.10.13\",\n",
    "    \"Daily News\": \"Thursday, 18 August 1977\" }\n",
    "formats = { \"The Moscow Times\": \"%A, %B %d, %Y\",\n",
    "    \"The Guardian\": \"%A, %d.%m.%y\",\n",
    "    \"Daily News\": \"%A, %d %B %Y\" }\n",
    "for newspaper, date_str in dates.items():\n",
    "    date_format = formats[newspaper]\n",
    "    date_obj = datetime.strptime(date_str, date_format)\n",
    "    print(f\"{newspaper}: {date_obj}\")"
   ]
  },
  {
   "cell_type": "code",
   "execution_count": null,
   "id": "fcabf9ad-4b73-4eae-a4e9-d5f7ac06ca71",
   "metadata": {},
   "outputs": [],
   "source": []
  }
 ],
 "metadata": {
  "kernelspec": {
   "display_name": "Python 3 (ipykernel)",
   "language": "python",
   "name": "python3"
  },
  "language_info": {
   "codemirror_mode": {
    "name": "ipython",
    "version": 3
   },
   "file_extension": ".py",
   "mimetype": "text/x-python",
   "name": "python",
   "nbconvert_exporter": "python",
   "pygments_lexer": "ipython3",
   "version": "3.12.7"
  }
 },
 "nbformat": 4,
 "nbformat_minor": 5
}
