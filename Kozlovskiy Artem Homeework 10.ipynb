{
 "cells": [
  {
   "cell_type": "code",
   "execution_count": null,
   "id": "2e72d821-9048-486c-b9bd-2d8fd7c25c79",
   "metadata": {},
   "outputs": [
    {
     "name": "stderr",
     "output_type": "stream",
     "text": [
      "C:\\Users\\artem\\AppData\\Local\\Temp\\ipykernel_21376\\2899737437.py:16: FutureWarning: \n",
      "\n",
      "Passing `palette` without assigning `hue` is deprecated and will be removed in v0.14.0. Assign the `y` variable to `hue` and set `legend=False` for the same effect.\n",
      "\n",
      "  sns.barplot(x=event_counts.values, y=event_counts.index, palette=\"viridis\", hue=None, leegend=False)\n"
     ]
    }
   ],
   "source": [
    "import json\n",
    "import pandas as pd\n",
    "import matplotlib.pyplot as plt\n",
    "import seaborn as sns\n",
    "\n",
    "file_path = \"C:\\\\Users\\\\artem\\\\Downloads\\\\events.json\"\n",
    "\n",
    "with open(file_path, \"r\", encoding=\"utf-8\") as file:\n",
    "    data = json.load(file)\n",
    "\n",
    "df = pd.DataFrame(data[\"events\"])\n",
    "event_counts = df[\"signature\"].value_counts()\n",
    "df.head(), event_counts\n",
    "\n",
    "plt.figure(figsize=(12, 6))\n",
    "sns.barplot(x=event_counts.values, y=event_counts.index, palette=\"viridis\", hue=None, leegend=False)\n",
    "\n",
    "plt.xlabel(\"Количество событий\")\n",
    "plt.ylabel(\"Тип события\")\n",
    "plt.title(\"Распределение событий информационной безопасности\")\n",
    "plt.grid(axis=\"x\", linestyle=\"--\", alpha=0.7)\n",
    "\n",
    "plt.show()"
   ]
  },
  {
   "cell_type": "code",
   "execution_count": null,
   "id": "fd296f1a-6805-496a-94df-08aa20c3e055",
   "metadata": {},
   "outputs": [],
   "source": []
  }
 ],
 "metadata": {
  "kernelspec": {
   "display_name": "Python 3 (ipykernel)",
   "language": "python",
   "name": "python3"
  },
  "language_info": {
   "codemirror_mode": {
    "name": "ipython",
    "version": 3
   },
   "file_extension": ".py",
   "mimetype": "text/x-python",
   "name": "python",
   "nbconvert_exporter": "python",
   "pygments_lexer": "ipython3",
   "version": "3.12.7"
  }
 },
 "nbformat": 4,
 "nbformat_minor": 5
}
