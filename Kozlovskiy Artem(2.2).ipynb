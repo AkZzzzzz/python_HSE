{
 "cells": [
  {
   "cell_type": "markdown",
   "id": "c55d73ff-d179-48a9-befb-f6b665c47582",
   "metadata": {},
   "source": [
    "Задание 1"
   ]
  },
  {
   "cell_type": "code",
   "execution_count": 6,
   "id": "fe655eab-09c7-4464-9f5a-27268a81e00b",
   "metadata": {},
   "outputs": [
    {
     "name": "stdout",
     "output_type": "stream",
     "text": [
      "Результат: {98, 35, 15, 213, 54, 119}\n"
     ]
    }
   ],
   "source": [
    "ids = {\n",
    "    'user1':[213, 213, 213, 15, 213],\n",
    "    'user2':[54, 54, 119, 119, 119],\n",
    "    'user3':[213, 98, 98, 35]\n",
    "}\n",
    "\n",
    "all_geo = set()\n",
    "for locations in ids.values():\n",
    "    all_geo.update(locations)\n",
    "print(\"Результат:\", all_geo)"
   ]
  },
  {
   "cell_type": "code",
   "execution_count": null,
   "id": "428c0749-abbe-4ae0-afad-0421f99fce3c",
   "metadata": {},
   "outputs": [],
   "source": []
  }
 ],
 "metadata": {
  "kernelspec": {
   "display_name": "Python 3 (ipykernel)",
   "language": "python",
   "name": "python3"
  },
  "language_info": {
   "codemirror_mode": {
    "name": "ipython",
    "version": 3
   },
   "file_extension": ".py",
   "mimetype": "text/x-python",
   "name": "python",
   "nbconvert_exporter": "python",
   "pygments_lexer": "ipython3",
   "version": "3.12.7"
  }
 },
 "nbformat": 4,
 "nbformat_minor": 5
}
