{
 "cells": [
  {
   "cell_type": "code",
   "execution_count": 7,
   "id": "323967ed-f337-4f47-8aab-0df14c87aa7b",
   "metadata": {},
   "outputs": [
    {
     "name": "stdout",
     "output_type": "stream",
     "text": [
      "1840e0b9d4 'Продукты'\n",
      "4e4f90fcfb 'Электроника'\n"
     ]
    }
   ],
   "source": [
    "import json\n",
    "purchases = {}\n",
    "with open('purchase_log.txt', 'r', encoding='utf-8') as file:\n",
    "    for line in file:\n",
    "        record = json.loads(line.strip())\n",
    "        user_id = record['user_id']\n",
    "        category = record['category']\n",
    "        purchases[user_id] = category\n",
    "for i, (user_id, category) in enumerate(purchases.items()):\n",
    "    print(f\"{user_id} '{category}'\")\n",
    "    if i == 1:\n",
    "        break "
   ]
  },
  {
   "cell_type": "code",
   "execution_count": null,
   "id": "b2bb445b-a0b2-49b8-80cb-c3b6901d875f",
   "metadata": {},
   "outputs": [],
   "source": []
  }
 ],
 "metadata": {
  "kernelspec": {
   "display_name": "Python 3 (ipykernel)",
   "language": "python",
   "name": "python3"
  },
  "language_info": {
   "codemirror_mode": {
    "name": "ipython",
    "version": 3
   },
   "file_extension": ".py",
   "mimetype": "text/x-python",
   "name": "python",
   "nbconvert_exporter": "python",
   "pygments_lexer": "ipython3",
   "version": "3.12.7"
  }
 },
 "nbformat": 4,
 "nbformat_minor": 5
}
