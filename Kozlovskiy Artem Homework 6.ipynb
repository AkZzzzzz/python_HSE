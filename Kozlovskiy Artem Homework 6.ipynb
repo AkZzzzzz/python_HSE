{
 "cells": [
  {
   "cell_type": "code",
   "execution_count": 3,
   "id": "4fc11658-b5f6-4a1f-8d57-6a3caf5ec785",
   "metadata": {},
   "outputs": [
    {
     "name": "stdout",
     "output_type": "stream",
     "text": [
      "<__main__.Account object at 0x0000021F709F02F0>\n",
      "Пополнение счёта на 1500. Текущий баланс: 2500.\n",
      "Снятие на 350. Текущий баланс: 2150.\n",
      "Недостаточно деняк\n"
     ]
    }
   ],
   "source": [
    "class Account:\n",
    "    def __init__(self, balance=0):\n",
    "        self.balance=balance\n",
    "    def deposit(self, count):\n",
    "        if count > 0:\n",
    "            self.balance += count\n",
    "            return f\"Пополнение счёта на {count}. Текущий баланс: {self.balance}.\"\n",
    "        else:\n",
    "            return \"Введите сумму больше нуля.\"\n",
    "    def withdraw(self, count):\n",
    "        if count <= self.balance:\n",
    "            self.balance -= count\n",
    "            return f\"Снятие на {count}. Текущий баланс: {self.balance}.\"\n",
    "        else:\n",
    "            return \"Недостаточно деняк\"\n",
    "\n",
    "if __name__ == \"__main__\":\n",
    "    account=Account(1000)\n",
    "    print(account)\n",
    "    print(account.deposit(1500))\n",
    "    print(account.withdraw(350))\n",
    "    print(account.withdraw(3350))\n",
    "    "
   ]
  },
  {
   "cell_type": "code",
   "execution_count": null,
   "id": "ef7b75e2-d0f0-4880-9394-e6ed9821a603",
   "metadata": {},
   "outputs": [],
   "source": []
  }
 ],
 "metadata": {
  "kernelspec": {
   "display_name": "Python 3 (ipykernel)",
   "language": "python",
   "name": "python3"
  },
  "language_info": {
   "codemirror_mode": {
    "name": "ipython",
    "version": 3
   },
   "file_extension": ".py",
   "mimetype": "text/x-python",
   "name": "python",
   "nbconvert_exporter": "python",
   "pygments_lexer": "ipython3",
   "version": "3.12.7"
  }
 },
 "nbformat": 4,
 "nbformat_minor": 5
}
