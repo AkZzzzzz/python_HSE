{
 "cells": [
  {
   "cell_type": "code",
   "execution_count": 9,
   "id": "90241d59-27dc-4e92-a82a-0ba22863a784",
   "metadata": {},
   "outputs": [],
   "source": [
    "import requests\n",
    "def get_posts():\n",
    "    url = \"https://jsonplaceholder.typicode.com/posts\"\n",
    "    try:\n",
    "        response = requests.get(url)\n",
    "        response.raise_for_status()\n",
    "        posts = response.json()[:5]\n",
    "        for idx, post in enumerate(posts, start=1):\n",
    "            print(f\"Post {idx}:\")\n",
    "            print(f\"Title: {post['title']}\")\n",
    "            print(f\"Body: {post['body']}\\n\")\n",
    "    except requests.RequestException as e:\n",
    "        print(f\"Ошибка при получении постов: {e}\")"
   ]
  },
  {
   "cell_type": "markdown",
   "id": "197407d1-0f29-4523-a38c-706b3e352291",
   "metadata": {},
   "source": [
    "Задание 2"
   ]
  },
  {
   "cell_type": "code",
   "execution_count": 12,
   "id": "cd7bccd2-a5ca-4a6f-9c00-afa65ec7daad",
   "metadata": {},
   "outputs": [
    {
     "name": "stdout",
     "output_type": "stream",
     "text": [
      "Задание 1: Получение данных из публичного API\n",
      "Post 1:\n",
      "Title: sunt aut facere repellat provident occaecati excepturi optio reprehenderit\n",
      "Body: quia et suscipit\n",
      "suscipit recusandae consequuntur expedita et cum\n",
      "reprehenderit molestiae ut ut quas totam\n",
      "nostrum rerum est autem sunt rem eveniet architecto\n",
      "\n",
      "Post 2:\n",
      "Title: qui est esse\n",
      "Body: est rerum tempore vitae\n",
      "sequi sint nihil reprehenderit dolor beatae ea dolores neque\n",
      "fugiat blanditiis voluptate porro vel nihil molestiae ut reiciendis\n",
      "qui aperiam non debitis possimus qui neque nisi nulla\n",
      "\n",
      "Post 3:\n",
      "Title: ea molestias quasi exercitationem repellat qui ipsa sit aut\n",
      "Body: et iusto sed quo iure\n",
      "voluptatem occaecati omnis eligendi aut ad\n",
      "voluptatem doloribus vel accusantium quis pariatur\n",
      "molestiae porro eius odio et labore et velit aut\n",
      "\n",
      "Post 4:\n",
      "Title: eum et est occaecati\n",
      "Body: ullam et saepe reiciendis voluptatem adipisci\n",
      "sit amet autem assumenda provident rerum culpa\n",
      "quis hic commodi nesciunt rem tenetur doloremque ipsam iure\n",
      "quis sunt voluptatem rerum illo velit\n",
      "\n",
      "Post 5:\n",
      "Title: nesciunt quas odio\n",
      "Body: repudiandae veniam quaerat sunt sed\n",
      "alias aut fugiat sit autem sed est\n",
      "voluptatem omnis possimus esse voluptatibus quis\n",
      "est aut tenetur dolor neque\n",
      "\n",
      "\n",
      "Задание 2: Работа с параметрами запроса\n",
      "Текущая температура в Москва: 0.57°C\n",
      "Описание погоды: пасмурно\n"
     ]
    }
   ],
   "source": [
    "def get_weather(city):\n",
    "    api_url = \"http://api.openweathermap.org/data/2.5/weather\"\n",
    "    api_key = \"1a7d75c547c2854fac5bcda1e3be33d6\"\n",
    "    try:\n",
    "        params = {\n",
    "            \"q\": city,\n",
    "            \"appid\": api_key,\n",
    "            \"units\": \"metric\",\n",
    "            \"lang\": \"ru\"\n",
    "        }\n",
    "        response = requests.get(api_url, params=params)\n",
    "        response.raise_for_status()\n",
    "        weather_data = response.json()\n",
    "        temperature = weather_data['main']['temp']\n",
    "        description = weather_data['weather'][0]['description']\n",
    "        print(f\"Текущая температура в {city}: {temperature}°C\")\n",
    "        print(f\"Описание погоды: {description}\")\n",
    "    except requests.RequestException as e:\n",
    "        print(f\"Ошибка при получении данных о погоде: {e}\")\n",
    "    except KeyError:\n",
    "        print(\"Ошибка: не удалось обработать данные ответа. Проверьте правильность ввода города.\")\n",
    "if __name__ == \"__main__\":\n",
    "    print(\"Задание 1: Получение данных из публичного API\")\n",
    "get_posts()\n",
    "print(\"\\nЗадание 2: Работа с параметрами запроса\")\n",
    "test_city = \"Москва\"\n",
    "get_weather(test_city)"
   ]
  },
  {
   "cell_type": "code",
   "execution_count": null,
   "id": "b35103e0-efaa-4e51-84c8-4a12c84d4c59",
   "metadata": {},
   "outputs": [],
   "source": []
  }
 ],
 "metadata": {
  "kernelspec": {
   "display_name": "Python 3 (ipykernel)",
   "language": "python",
   "name": "python3"
  },
  "language_info": {
   "codemirror_mode": {
    "name": "ipython",
    "version": 3
   },
   "file_extension": ".py",
   "mimetype": "text/x-python",
   "name": "python",
   "nbconvert_exporter": "python",
   "pygments_lexer": "ipython3",
   "version": "3.12.7"
  }
 },
 "nbformat": 4,
 "nbformat_minor": 5
}
